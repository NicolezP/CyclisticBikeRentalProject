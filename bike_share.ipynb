{
 "cells": [
  {
   "cell_type": "markdown",
   "metadata": {},
   "source": [
    "## Cyclistic Case study<br>\n",
    "In this case study, I used bike rides data from 2022 to uncover how casual riders differ from annual members. By understanding what drives casual riders to commit long-term, we can tailor our outreach to convert them into loyal members."
   ]
  },
  {
   "cell_type": "markdown",
   "metadata": {},
   "source": [
    "# Import the necessary packages"
   ]
  },
  {
   "cell_type": "code",
   "execution_count": 1,
   "metadata": {},
   "outputs": [],
   "source": [
    "#Import packages\n",
    "import numpy as np\n",
    "import pandas as pd\n",
    "import matplotlib.pyplot as plt\n",
    "import seaborn as sns"
   ]
  },
  {
   "cell_type": "markdown",
   "metadata": {},
   "source": [
    "# Load the datasets"
   ]
  },
  {
   "cell_type": "code",
   "execution_count": 2,
   "metadata": {},
   "outputs": [],
   "source": [
    "#load the datasets from Jan-Dec 2022\n",
    "df1 = pd.read_csv(\"Datasets/original_csv/202201-divvy-tripdata.csv\")\n",
    "df2 = pd.read_csv(\"Datasets/original_csv/202202-divvy-tripdata.csv\")\n",
    "df3 = pd.read_csv(\"Datasets/original_csv/202203-divvy-tripdata.csv\")\n",
    "df4 = pd.read_csv(\"Datasets/original_csv/202204-divvy-tripdata.csv\")\n",
    "df5 = pd.read_csv(\"Datasets/original_csv/202205-divvy-tripdata.csv\")\n",
    "df6 = pd.read_csv(\"Datasets/original_csv/202206-divvy-tripdata.csv\")\n",
    "df7 = pd.read_csv(\"Datasets/original_csv/202207-divvy-tripdata.csv\")\n",
    "df8 = pd.read_csv(\"Datasets/original_csv/202208-divvy-tripdata.csv\")\n",
    "df9 = pd.read_csv(\"Datasets/original_csv/202209-divvy-publictripdata.csv\")\n",
    "df10 = pd.read_csv(\"Datasets/original_csv/202210-divvy-tripdata.csv\")\n",
    "df11 = pd.read_csv(\"Datasets/original_csv/202211-divvy-tripdata.csv\")\n",
    "df12 = pd.read_csv(\"Datasets/original_csv/202212-divvy-tripdata.csv\")"
   ]
  },
  {
   "cell_type": "markdown",
   "metadata": {},
   "source": [
    "To get a quick overview of the dataset we use the df.info() and df.head() function<br>\n",
    "checking that all column names are the same, combine all 12 dataframes with the concat function"
   ]
  },
  {
   "cell_type": "code",
   "execution_count": 3,
   "metadata": {},
   "outputs": [
    {
     "data": {
      "text/html": [
       "<div>\n",
       "<style scoped>\n",
       "    .dataframe tbody tr th:only-of-type {\n",
       "        vertical-align: middle;\n",
       "    }\n",
       "\n",
       "    .dataframe tbody tr th {\n",
       "        vertical-align: top;\n",
       "    }\n",
       "\n",
       "    .dataframe thead th {\n",
       "        text-align: right;\n",
       "    }\n",
       "</style>\n",
       "<table border=\"1\" class=\"dataframe\">\n",
       "  <thead>\n",
       "    <tr style=\"text-align: right;\">\n",
       "      <th></th>\n",
       "      <th>ride_id</th>\n",
       "      <th>rideable_type</th>\n",
       "      <th>started_at</th>\n",
       "      <th>ended_at</th>\n",
       "      <th>start_station_name</th>\n",
       "      <th>start_station_id</th>\n",
       "      <th>end_station_name</th>\n",
       "      <th>end_station_id</th>\n",
       "      <th>start_lat</th>\n",
       "      <th>start_lng</th>\n",
       "      <th>end_lat</th>\n",
       "      <th>end_lng</th>\n",
       "      <th>member_casual</th>\n",
       "    </tr>\n",
       "  </thead>\n",
       "  <tbody>\n",
       "    <tr>\n",
       "      <th>0</th>\n",
       "      <td>C2F7DD78E82EC875</td>\n",
       "      <td>electric_bike</td>\n",
       "      <td>2022-01-13 11:59:47</td>\n",
       "      <td>2022-01-13 12:02:44</td>\n",
       "      <td>Glenwood Ave &amp; Touhy Ave</td>\n",
       "      <td>525</td>\n",
       "      <td>Clark St &amp; Touhy Ave</td>\n",
       "      <td>RP-007</td>\n",
       "      <td>42.012800</td>\n",
       "      <td>-87.665906</td>\n",
       "      <td>42.012560</td>\n",
       "      <td>-87.674367</td>\n",
       "      <td>casual</td>\n",
       "    </tr>\n",
       "    <tr>\n",
       "      <th>1</th>\n",
       "      <td>A6CF8980A652D272</td>\n",
       "      <td>electric_bike</td>\n",
       "      <td>2022-01-10 08:41:56</td>\n",
       "      <td>2022-01-10 08:46:17</td>\n",
       "      <td>Glenwood Ave &amp; Touhy Ave</td>\n",
       "      <td>525</td>\n",
       "      <td>Clark St &amp; Touhy Ave</td>\n",
       "      <td>RP-007</td>\n",
       "      <td>42.012763</td>\n",
       "      <td>-87.665967</td>\n",
       "      <td>42.012560</td>\n",
       "      <td>-87.674367</td>\n",
       "      <td>casual</td>\n",
       "    </tr>\n",
       "    <tr>\n",
       "      <th>2</th>\n",
       "      <td>BD0F91DFF741C66D</td>\n",
       "      <td>classic_bike</td>\n",
       "      <td>2022-01-25 04:53:40</td>\n",
       "      <td>2022-01-25 04:58:01</td>\n",
       "      <td>Sheffield Ave &amp; Fullerton Ave</td>\n",
       "      <td>TA1306000016</td>\n",
       "      <td>Greenview Ave &amp; Fullerton Ave</td>\n",
       "      <td>TA1307000001</td>\n",
       "      <td>41.925602</td>\n",
       "      <td>-87.653708</td>\n",
       "      <td>41.925330</td>\n",
       "      <td>-87.665800</td>\n",
       "      <td>member</td>\n",
       "    </tr>\n",
       "    <tr>\n",
       "      <th>3</th>\n",
       "      <td>CBB80ED419105406</td>\n",
       "      <td>classic_bike</td>\n",
       "      <td>2022-01-04 00:18:04</td>\n",
       "      <td>2022-01-04 00:33:00</td>\n",
       "      <td>Clark St &amp; Bryn Mawr Ave</td>\n",
       "      <td>KA1504000151</td>\n",
       "      <td>Paulina St &amp; Montrose Ave</td>\n",
       "      <td>TA1309000021</td>\n",
       "      <td>41.983593</td>\n",
       "      <td>-87.669154</td>\n",
       "      <td>41.961507</td>\n",
       "      <td>-87.671387</td>\n",
       "      <td>casual</td>\n",
       "    </tr>\n",
       "    <tr>\n",
       "      <th>4</th>\n",
       "      <td>DDC963BFDDA51EEA</td>\n",
       "      <td>classic_bike</td>\n",
       "      <td>2022-01-20 01:31:10</td>\n",
       "      <td>2022-01-20 01:37:12</td>\n",
       "      <td>Michigan Ave &amp; Jackson Blvd</td>\n",
       "      <td>TA1309000002</td>\n",
       "      <td>State St &amp; Randolph St</td>\n",
       "      <td>TA1305000029</td>\n",
       "      <td>41.877850</td>\n",
       "      <td>-87.624080</td>\n",
       "      <td>41.884621</td>\n",
       "      <td>-87.627834</td>\n",
       "      <td>member</td>\n",
       "    </tr>\n",
       "  </tbody>\n",
       "</table>\n",
       "</div>"
      ],
      "text/plain": [
       "            ride_id  rideable_type           started_at             ended_at  \\\n",
       "0  C2F7DD78E82EC875  electric_bike  2022-01-13 11:59:47  2022-01-13 12:02:44   \n",
       "1  A6CF8980A652D272  electric_bike  2022-01-10 08:41:56  2022-01-10 08:46:17   \n",
       "2  BD0F91DFF741C66D   classic_bike  2022-01-25 04:53:40  2022-01-25 04:58:01   \n",
       "3  CBB80ED419105406   classic_bike  2022-01-04 00:18:04  2022-01-04 00:33:00   \n",
       "4  DDC963BFDDA51EEA   classic_bike  2022-01-20 01:31:10  2022-01-20 01:37:12   \n",
       "\n",
       "              start_station_name start_station_id  \\\n",
       "0       Glenwood Ave & Touhy Ave              525   \n",
       "1       Glenwood Ave & Touhy Ave              525   \n",
       "2  Sheffield Ave & Fullerton Ave     TA1306000016   \n",
       "3       Clark St & Bryn Mawr Ave     KA1504000151   \n",
       "4    Michigan Ave & Jackson Blvd     TA1309000002   \n",
       "\n",
       "                end_station_name end_station_id  start_lat  start_lng  \\\n",
       "0           Clark St & Touhy Ave         RP-007  42.012800 -87.665906   \n",
       "1           Clark St & Touhy Ave         RP-007  42.012763 -87.665967   \n",
       "2  Greenview Ave & Fullerton Ave   TA1307000001  41.925602 -87.653708   \n",
       "3      Paulina St & Montrose Ave   TA1309000021  41.983593 -87.669154   \n",
       "4         State St & Randolph St   TA1305000029  41.877850 -87.624080   \n",
       "\n",
       "     end_lat    end_lng member_casual  \n",
       "0  42.012560 -87.674367        casual  \n",
       "1  42.012560 -87.674367        casual  \n",
       "2  41.925330 -87.665800        member  \n",
       "3  41.961507 -87.671387        casual  \n",
       "4  41.884621 -87.627834        member  "
      ]
     },
     "execution_count": 3,
     "metadata": {},
     "output_type": "execute_result"
    }
   ],
   "source": [
    "df1.head()"
   ]
  },
  {
   "cell_type": "code",
   "execution_count": 4,
   "metadata": {},
   "outputs": [
    {
     "name": "stdout",
     "output_type": "stream",
     "text": [
      "<class 'pandas.core.frame.DataFrame'>\n",
      "RangeIndex: 103770 entries, 0 to 103769\n",
      "Data columns (total 13 columns):\n",
      " #   Column              Non-Null Count   Dtype  \n",
      "---  ------              --------------   -----  \n",
      " 0   ride_id             103770 non-null  object \n",
      " 1   rideable_type       103770 non-null  object \n",
      " 2   started_at          103770 non-null  object \n",
      " 3   ended_at            103770 non-null  object \n",
      " 4   start_station_name  87510 non-null   object \n",
      " 5   start_station_id    87510 non-null   object \n",
      " 6   end_station_name    85843 non-null   object \n",
      " 7   end_station_id      85843 non-null   object \n",
      " 8   start_lat           103770 non-null  float64\n",
      " 9   start_lng           103770 non-null  float64\n",
      " 10  end_lat             103684 non-null  float64\n",
      " 11  end_lng             103684 non-null  float64\n",
      " 12  member_casual       103770 non-null  object \n",
      "dtypes: float64(4), object(9)\n",
      "memory usage: 10.3+ MB\n"
     ]
    }
   ],
   "source": [
    "df1.info()"
   ]
  },
  {
   "cell_type": "code",
   "execution_count": 5,
   "metadata": {},
   "outputs": [
    {
     "name": "stdout",
     "output_type": "stream",
     "text": [
      "<class 'pandas.core.frame.DataFrame'>\n",
      "Index: 5667717 entries, 0 to 181805\n",
      "Data columns (total 13 columns):\n",
      " #   Column              Dtype  \n",
      "---  ------              -----  \n",
      " 0   ride_id             object \n",
      " 1   rideable_type       object \n",
      " 2   started_at          object \n",
      " 3   ended_at            object \n",
      " 4   start_station_name  object \n",
      " 5   start_station_id    object \n",
      " 6   end_station_name    object \n",
      " 7   end_station_id      object \n",
      " 8   start_lat           float64\n",
      " 9   start_lng           float64\n",
      " 10  end_lat             float64\n",
      " 11  end_lng             float64\n",
      " 12  member_casual       object \n",
      "dtypes: float64(4), object(9)\n",
      "memory usage: 605.4+ MB\n"
     ]
    }
   ],
   "source": [
    "data_frames = [df1, df2, df3, df4, df5, df6, df7, df8, df9, df10, df11, df12]\n",
    "df2022 = pd.concat(data_frames)\n",
    "df2022.info()"
   ]
  },
  {
   "cell_type": "code",
   "execution_count": 6,
   "metadata": {},
   "outputs": [
    {
     "data": {
      "text/html": [
       "<div>\n",
       "<style scoped>\n",
       "    .dataframe tbody tr th:only-of-type {\n",
       "        vertical-align: middle;\n",
       "    }\n",
       "\n",
       "    .dataframe tbody tr th {\n",
       "        vertical-align: top;\n",
       "    }\n",
       "\n",
       "    .dataframe thead th {\n",
       "        text-align: right;\n",
       "    }\n",
       "</style>\n",
       "<table border=\"1\" class=\"dataframe\">\n",
       "  <thead>\n",
       "    <tr style=\"text-align: right;\">\n",
       "      <th></th>\n",
       "      <th>ride_id</th>\n",
       "      <th>rideable_type</th>\n",
       "      <th>started_at</th>\n",
       "      <th>ended_at</th>\n",
       "      <th>start_station_name</th>\n",
       "      <th>start_station_id</th>\n",
       "      <th>end_station_name</th>\n",
       "      <th>end_station_id</th>\n",
       "      <th>start_lat</th>\n",
       "      <th>start_lng</th>\n",
       "      <th>end_lat</th>\n",
       "      <th>end_lng</th>\n",
       "      <th>member_casual</th>\n",
       "    </tr>\n",
       "  </thead>\n",
       "  <tbody>\n",
       "    <tr>\n",
       "      <th>0</th>\n",
       "      <td>C2F7DD78E82EC875</td>\n",
       "      <td>electric_bike</td>\n",
       "      <td>2022-01-13 11:59:47</td>\n",
       "      <td>2022-01-13 12:02:44</td>\n",
       "      <td>Glenwood Ave &amp; Touhy Ave</td>\n",
       "      <td>525</td>\n",
       "      <td>Clark St &amp; Touhy Ave</td>\n",
       "      <td>RP-007</td>\n",
       "      <td>42.012800</td>\n",
       "      <td>-87.665906</td>\n",
       "      <td>42.012560</td>\n",
       "      <td>-87.674367</td>\n",
       "      <td>casual</td>\n",
       "    </tr>\n",
       "    <tr>\n",
       "      <th>1</th>\n",
       "      <td>A6CF8980A652D272</td>\n",
       "      <td>electric_bike</td>\n",
       "      <td>2022-01-10 08:41:56</td>\n",
       "      <td>2022-01-10 08:46:17</td>\n",
       "      <td>Glenwood Ave &amp; Touhy Ave</td>\n",
       "      <td>525</td>\n",
       "      <td>Clark St &amp; Touhy Ave</td>\n",
       "      <td>RP-007</td>\n",
       "      <td>42.012763</td>\n",
       "      <td>-87.665967</td>\n",
       "      <td>42.012560</td>\n",
       "      <td>-87.674367</td>\n",
       "      <td>casual</td>\n",
       "    </tr>\n",
       "    <tr>\n",
       "      <th>2</th>\n",
       "      <td>BD0F91DFF741C66D</td>\n",
       "      <td>classic_bike</td>\n",
       "      <td>2022-01-25 04:53:40</td>\n",
       "      <td>2022-01-25 04:58:01</td>\n",
       "      <td>Sheffield Ave &amp; Fullerton Ave</td>\n",
       "      <td>TA1306000016</td>\n",
       "      <td>Greenview Ave &amp; Fullerton Ave</td>\n",
       "      <td>TA1307000001</td>\n",
       "      <td>41.925602</td>\n",
       "      <td>-87.653708</td>\n",
       "      <td>41.925330</td>\n",
       "      <td>-87.665800</td>\n",
       "      <td>member</td>\n",
       "    </tr>\n",
       "    <tr>\n",
       "      <th>3</th>\n",
       "      <td>CBB80ED419105406</td>\n",
       "      <td>classic_bike</td>\n",
       "      <td>2022-01-04 00:18:04</td>\n",
       "      <td>2022-01-04 00:33:00</td>\n",
       "      <td>Clark St &amp; Bryn Mawr Ave</td>\n",
       "      <td>KA1504000151</td>\n",
       "      <td>Paulina St &amp; Montrose Ave</td>\n",
       "      <td>TA1309000021</td>\n",
       "      <td>41.983593</td>\n",
       "      <td>-87.669154</td>\n",
       "      <td>41.961507</td>\n",
       "      <td>-87.671387</td>\n",
       "      <td>casual</td>\n",
       "    </tr>\n",
       "    <tr>\n",
       "      <th>4</th>\n",
       "      <td>DDC963BFDDA51EEA</td>\n",
       "      <td>classic_bike</td>\n",
       "      <td>2022-01-20 01:31:10</td>\n",
       "      <td>2022-01-20 01:37:12</td>\n",
       "      <td>Michigan Ave &amp; Jackson Blvd</td>\n",
       "      <td>TA1309000002</td>\n",
       "      <td>State St &amp; Randolph St</td>\n",
       "      <td>TA1305000029</td>\n",
       "      <td>41.877850</td>\n",
       "      <td>-87.624080</td>\n",
       "      <td>41.884621</td>\n",
       "      <td>-87.627834</td>\n",
       "      <td>member</td>\n",
       "    </tr>\n",
       "    <tr>\n",
       "      <th>...</th>\n",
       "      <td>...</td>\n",
       "      <td>...</td>\n",
       "      <td>...</td>\n",
       "      <td>...</td>\n",
       "      <td>...</td>\n",
       "      <td>...</td>\n",
       "      <td>...</td>\n",
       "      <td>...</td>\n",
       "      <td>...</td>\n",
       "      <td>...</td>\n",
       "      <td>...</td>\n",
       "      <td>...</td>\n",
       "      <td>...</td>\n",
       "    </tr>\n",
       "    <tr>\n",
       "      <th>95</th>\n",
       "      <td>82A6663F509903F5</td>\n",
       "      <td>classic_bike</td>\n",
       "      <td>2022-01-31 18:54:34</td>\n",
       "      <td>2022-01-31 19:05:01</td>\n",
       "      <td>Michigan Ave &amp; Jackson Blvd</td>\n",
       "      <td>TA1309000002</td>\n",
       "      <td>Wabash Ave &amp; Grand Ave</td>\n",
       "      <td>TA1307000117</td>\n",
       "      <td>41.877850</td>\n",
       "      <td>-87.624080</td>\n",
       "      <td>41.891466</td>\n",
       "      <td>-87.626761</td>\n",
       "      <td>casual</td>\n",
       "    </tr>\n",
       "    <tr>\n",
       "      <th>96</th>\n",
       "      <td>CE0530F063606F7F</td>\n",
       "      <td>electric_bike</td>\n",
       "      <td>2022-01-31 20:32:45</td>\n",
       "      <td>2022-01-31 20:41:07</td>\n",
       "      <td>Lincoln Ave &amp; Belmont Ave</td>\n",
       "      <td>TA1309000042</td>\n",
       "      <td>Halsted St &amp; Roscoe St</td>\n",
       "      <td>TA1309000025</td>\n",
       "      <td>41.939537</td>\n",
       "      <td>-87.668308</td>\n",
       "      <td>41.943670</td>\n",
       "      <td>-87.648950</td>\n",
       "      <td>member</td>\n",
       "    </tr>\n",
       "    <tr>\n",
       "      <th>97</th>\n",
       "      <td>1965757F99F03F3C</td>\n",
       "      <td>electric_bike</td>\n",
       "      <td>2022-01-06 12:55:16</td>\n",
       "      <td>2022-01-06 13:23:35</td>\n",
       "      <td>LaSalle St &amp; Jackson Blvd</td>\n",
       "      <td>TA1309000004</td>\n",
       "      <td>Southport Ave &amp; Wellington Ave</td>\n",
       "      <td>TA1307000006</td>\n",
       "      <td>41.878009</td>\n",
       "      <td>-87.630797</td>\n",
       "      <td>41.935733</td>\n",
       "      <td>-87.663576</td>\n",
       "      <td>member</td>\n",
       "    </tr>\n",
       "    <tr>\n",
       "      <th>98</th>\n",
       "      <td>569C4D7E654C5487</td>\n",
       "      <td>classic_bike</td>\n",
       "      <td>2022-01-17 11:13:14</td>\n",
       "      <td>2022-01-17 11:33:24</td>\n",
       "      <td>Sheffield Ave &amp; Wellington Ave</td>\n",
       "      <td>TA1307000052</td>\n",
       "      <td>Kimball Ave &amp; Belmont Ave</td>\n",
       "      <td>KA150400009X</td>\n",
       "      <td>41.936253</td>\n",
       "      <td>-87.652662</td>\n",
       "      <td>41.939398</td>\n",
       "      <td>-87.711561</td>\n",
       "      <td>member</td>\n",
       "    </tr>\n",
       "    <tr>\n",
       "      <th>99</th>\n",
       "      <td>00597F0DED9117DA</td>\n",
       "      <td>electric_bike</td>\n",
       "      <td>2022-01-13 07:31:40</td>\n",
       "      <td>2022-01-13 07:36:25</td>\n",
       "      <td>Sedgwick St &amp; North Ave</td>\n",
       "      <td>TA1307000038</td>\n",
       "      <td>Larrabee St &amp; Division St</td>\n",
       "      <td>KA1504000079</td>\n",
       "      <td>41.911378</td>\n",
       "      <td>-87.638656</td>\n",
       "      <td>41.903486</td>\n",
       "      <td>-87.643353</td>\n",
       "      <td>member</td>\n",
       "    </tr>\n",
       "  </tbody>\n",
       "</table>\n",
       "<p>100 rows × 13 columns</p>\n",
       "</div>"
      ],
      "text/plain": [
       "             ride_id  rideable_type           started_at             ended_at  \\\n",
       "0   C2F7DD78E82EC875  electric_bike  2022-01-13 11:59:47  2022-01-13 12:02:44   \n",
       "1   A6CF8980A652D272  electric_bike  2022-01-10 08:41:56  2022-01-10 08:46:17   \n",
       "2   BD0F91DFF741C66D   classic_bike  2022-01-25 04:53:40  2022-01-25 04:58:01   \n",
       "3   CBB80ED419105406   classic_bike  2022-01-04 00:18:04  2022-01-04 00:33:00   \n",
       "4   DDC963BFDDA51EEA   classic_bike  2022-01-20 01:31:10  2022-01-20 01:37:12   \n",
       "..               ...            ...                  ...                  ...   \n",
       "95  82A6663F509903F5   classic_bike  2022-01-31 18:54:34  2022-01-31 19:05:01   \n",
       "96  CE0530F063606F7F  electric_bike  2022-01-31 20:32:45  2022-01-31 20:41:07   \n",
       "97  1965757F99F03F3C  electric_bike  2022-01-06 12:55:16  2022-01-06 13:23:35   \n",
       "98  569C4D7E654C5487   classic_bike  2022-01-17 11:13:14  2022-01-17 11:33:24   \n",
       "99  00597F0DED9117DA  electric_bike  2022-01-13 07:31:40  2022-01-13 07:36:25   \n",
       "\n",
       "                start_station_name start_station_id  \\\n",
       "0         Glenwood Ave & Touhy Ave              525   \n",
       "1         Glenwood Ave & Touhy Ave              525   \n",
       "2    Sheffield Ave & Fullerton Ave     TA1306000016   \n",
       "3         Clark St & Bryn Mawr Ave     KA1504000151   \n",
       "4      Michigan Ave & Jackson Blvd     TA1309000002   \n",
       "..                             ...              ...   \n",
       "95     Michigan Ave & Jackson Blvd     TA1309000002   \n",
       "96       Lincoln Ave & Belmont Ave     TA1309000042   \n",
       "97       LaSalle St & Jackson Blvd     TA1309000004   \n",
       "98  Sheffield Ave & Wellington Ave     TA1307000052   \n",
       "99         Sedgwick St & North Ave     TA1307000038   \n",
       "\n",
       "                  end_station_name end_station_id  start_lat  start_lng  \\\n",
       "0             Clark St & Touhy Ave         RP-007  42.012800 -87.665906   \n",
       "1             Clark St & Touhy Ave         RP-007  42.012763 -87.665967   \n",
       "2    Greenview Ave & Fullerton Ave   TA1307000001  41.925602 -87.653708   \n",
       "3        Paulina St & Montrose Ave   TA1309000021  41.983593 -87.669154   \n",
       "4           State St & Randolph St   TA1305000029  41.877850 -87.624080   \n",
       "..                             ...            ...        ...        ...   \n",
       "95          Wabash Ave & Grand Ave   TA1307000117  41.877850 -87.624080   \n",
       "96          Halsted St & Roscoe St   TA1309000025  41.939537 -87.668308   \n",
       "97  Southport Ave & Wellington Ave   TA1307000006  41.878009 -87.630797   \n",
       "98       Kimball Ave & Belmont Ave   KA150400009X  41.936253 -87.652662   \n",
       "99       Larrabee St & Division St   KA1504000079  41.911378 -87.638656   \n",
       "\n",
       "      end_lat    end_lng member_casual  \n",
       "0   42.012560 -87.674367        casual  \n",
       "1   42.012560 -87.674367        casual  \n",
       "2   41.925330 -87.665800        member  \n",
       "3   41.961507 -87.671387        casual  \n",
       "4   41.884621 -87.627834        member  \n",
       "..        ...        ...           ...  \n",
       "95  41.891466 -87.626761        casual  \n",
       "96  41.943670 -87.648950        member  \n",
       "97  41.935733 -87.663576        member  \n",
       "98  41.939398 -87.711561        member  \n",
       "99  41.903486 -87.643353        member  \n",
       "\n",
       "[100 rows x 13 columns]"
      ]
     },
     "execution_count": 6,
     "metadata": {},
     "output_type": "execute_result"
    }
   ],
   "source": [
    "df2022.head(100)"
   ]
  },
  {
   "cell_type": "markdown",
   "metadata": {},
   "source": [
    "Check for null values"
   ]
  },
  {
   "cell_type": "code",
   "execution_count": 7,
   "metadata": {},
   "outputs": [
    {
     "data": {
      "text/plain": [
       "ride_id                    0\n",
       "rideable_type              0\n",
       "started_at                 0\n",
       "ended_at                   0\n",
       "start_station_name    833064\n",
       "start_station_id      833064\n",
       "end_station_name      892742\n",
       "end_station_id        892742\n",
       "start_lat                  0\n",
       "start_lng                  0\n",
       "end_lat                 5858\n",
       "end_lng                 5858\n",
       "member_casual              0\n",
       "dtype: int64"
      ]
     },
     "execution_count": 7,
     "metadata": {},
     "output_type": "execute_result"
    }
   ],
   "source": [
    "\n",
    "df2022.isnull().sum()"
   ]
  },
  {
   "cell_type": "markdown",
   "metadata": {},
   "source": [
    "# Cleaning the dataset"
   ]
  },
  {
   "cell_type": "markdown",
   "metadata": {},
   "source": [
    "Drop rows that has blank station information removing incomplete or maybe corrupted data"
   ]
  },
  {
   "cell_type": "code",
   "execution_count": 8,
   "metadata": {},
   "outputs": [],
   "source": [
    "\n",
    "df2022.dropna(subset=['start_station_name'], inplace=True)\n",
    "df2022.dropna(subset=['start_station_id'], inplace=True)\n",
    "df2022.dropna(subset=['end_station_name'], inplace=True)\n",
    "df2022.dropna(subset=['end_station_id'], inplace=True)\n",
    "df2022.dropna(subset=['end_lat'], inplace=True)\n",
    "df2022.dropna(subset=['end_lng'], inplace=True)"
   ]
  },
  {
   "cell_type": "code",
   "execution_count": 9,
   "metadata": {},
   "outputs": [
    {
     "data": {
      "text/plain": [
       "ride_id               0\n",
       "rideable_type         0\n",
       "started_at            0\n",
       "ended_at              0\n",
       "start_station_name    0\n",
       "start_station_id      0\n",
       "end_station_name      0\n",
       "end_station_id        0\n",
       "start_lat             0\n",
       "start_lng             0\n",
       "end_lat               0\n",
       "end_lng               0\n",
       "member_casual         0\n",
       "dtype: int64"
      ]
     },
     "execution_count": 9,
     "metadata": {},
     "output_type": "execute_result"
    }
   ],
   "source": [
    "df2022.isnull().sum()"
   ]
  },
  {
   "cell_type": "code",
   "execution_count": 10,
   "metadata": {},
   "outputs": [
    {
     "name": "stdout",
     "output_type": "stream",
     "text": [
      "<class 'pandas.core.frame.DataFrame'>\n",
      "Index: 4369360 entries, 0 to 181805\n",
      "Data columns (total 13 columns):\n",
      " #   Column              Dtype  \n",
      "---  ------              -----  \n",
      " 0   ride_id             object \n",
      " 1   rideable_type       object \n",
      " 2   started_at          object \n",
      " 3   ended_at            object \n",
      " 4   start_station_name  object \n",
      " 5   start_station_id    object \n",
      " 6   end_station_name    object \n",
      " 7   end_station_id      object \n",
      " 8   start_lat           float64\n",
      " 9   start_lng           float64\n",
      " 10  end_lat             float64\n",
      " 11  end_lng             float64\n",
      " 12  member_casual       object \n",
      "dtypes: float64(4), object(9)\n",
      "memory usage: 466.7+ MB\n"
     ]
    }
   ],
   "source": [
    "df2022.info()"
   ]
  },
  {
   "cell_type": "markdown",
   "metadata": {},
   "source": [
    "Drop records due to maintainence or testing : <br>\n",
    "Station names containing 'Base' , 'DIVVY' , 'TEST' and 'charing'\n",
    "<br><br>\n",
    "ride_ids should be 16 characters "
   ]
  },
  {
   "cell_type": "code",
   "execution_count": 11,
   "metadata": {},
   "outputs": [],
   "source": [
    "# Dropping records with station names containing 'Base'\n",
    "# The ~ operator negates the boolean condition, so it keeps only the rows where the condition is False\n",
    "df2022 = df2022[~df2022['start_station_name'].str.contains('Base')]\n",
    "df2022 = df2022[~df2022['end_station_name'].str.contains('Base')]"
   ]
  },
  {
   "cell_type": "code",
   "execution_count": 12,
   "metadata": {},
   "outputs": [],
   "source": [
    "# Dropping records with station names containing 'DIVVY'\n",
    "# The ~ operator negates the boolean condition, so it keeps only the rows where the condition is False\n",
    "\n",
    "df2022 = df2022[~df2022['start_station_name'].str.contains('DIVVY')]\n",
    "df2022 = df2022[~df2022['end_station_name'].str.contains('DIVVY')]"
   ]
  },
  {
   "cell_type": "code",
   "execution_count": 13,
   "metadata": {},
   "outputs": [],
   "source": [
    "# Dropping records with station names containing 'DIVVY'\n",
    "# The ~ operator negates the boolean condition, so it keeps only the rows where the condition is False\n",
    "\n",
    "df2022 = df2022[~df2022['start_station_name'].str.contains('TEST')]\n",
    "df2022 = df2022[~df2022['end_station_name'].str.contains('TEST')]"
   ]
  },
  {
   "cell_type": "code",
   "execution_count": 14,
   "metadata": {},
   "outputs": [],
   "source": [
    "# Dropping records with station names containing 'DIVVY'\n",
    "# The ~ operator negates the boolean condition, so it keeps only the rows where the condition is False\n",
    "df2022 = df2022[~df2022['start_station_name'].str.contains('charing')]\n",
    "df2022 = df2022[~df2022['end_station_name'].str.contains('charing')]"
   ]
  },
  {
   "cell_type": "code",
   "execution_count": 15,
   "metadata": {},
   "outputs": [],
   "source": [
    "# Keeping only rides with a valid ride_id of 16 characters\n",
    "df2022 = df2022[df2022['ride_id'].str.len()==16]"
   ]
  },
  {
   "cell_type": "code",
   "execution_count": 16,
   "metadata": {},
   "outputs": [
    {
     "name": "stdout",
     "output_type": "stream",
     "text": [
      "<class 'pandas.core.frame.DataFrame'>\n",
      "Index: 4367947 entries, 0 to 181805\n",
      "Data columns (total 13 columns):\n",
      " #   Column              Dtype  \n",
      "---  ------              -----  \n",
      " 0   ride_id             object \n",
      " 1   rideable_type       object \n",
      " 2   started_at          object \n",
      " 3   ended_at            object \n",
      " 4   start_station_name  object \n",
      " 5   start_station_id    object \n",
      " 6   end_station_name    object \n",
      " 7   end_station_id      object \n",
      " 8   start_lat           float64\n",
      " 9   start_lng           float64\n",
      " 10  end_lat             float64\n",
      " 11  end_lng             float64\n",
      " 12  member_casual       object \n",
      "dtypes: float64(4), object(9)\n",
      "memory usage: 466.5+ MB\n"
     ]
    }
   ],
   "source": [
    "df2022.info()"
   ]
  },
  {
   "cell_type": "markdown",
   "metadata": {},
   "source": [
    "There are 1,413 records dropped"
   ]
  },
  {
   "cell_type": "markdown",
   "metadata": {},
   "source": [
    "Convert **started_at** and **ended_at** column to datetime so that we can find tripduration for each ride"
   ]
  },
  {
   "cell_type": "code",
   "execution_count": 17,
   "metadata": {},
   "outputs": [],
   "source": [
    "# Transforming the started and ended columns into datetime\n",
    "df2022['started_at'] = pd.to_datetime(df2022['started_at'], format='%Y-%m-%d %H:%M:%S')\n",
    "df2022['ended_at'] = pd.to_datetime(df2022['ended_at'], format='%Y-%m-%d %H:%M:%S')\n"
   ]
  },
  {
   "cell_type": "code",
   "execution_count": 18,
   "metadata": {},
   "outputs": [],
   "source": [
    "df2022['month'] = pd.DatetimeIndex(df2022[\"started_at\"]).month"
   ]
  },
  {
   "cell_type": "markdown",
   "metadata": {},
   "source": [
    "Add a new columns for later analysis:<br>\n",
    "*     triplength\n",
    "*     trip_seconds\n",
    "*     day_of_week  "
   ]
  },
  {
   "cell_type": "code",
   "execution_count": 19,
   "metadata": {},
   "outputs": [],
   "source": [
    "# Adding the new column for triplength\n",
    "df2022['trip_length'] = df2022['ended_at'] - df2022['started_at']"
   ]
  },
  {
   "cell_type": "code",
   "execution_count": 20,
   "metadata": {},
   "outputs": [],
   "source": [
    "# Adding a new column of trip_seconds for calculations\n",
    "df2022['trip_seconds'] = df2022['trip_length'].dt.total_seconds()"
   ]
  },
  {
   "cell_type": "code",
   "execution_count": 21,
   "metadata": {},
   "outputs": [],
   "source": [
    "# Adding the new column for day of the week\n",
    "df2022['day_of_week'] = df2022['started_at'].dt.day_name()"
   ]
  },
  {
   "cell_type": "code",
   "execution_count": 22,
   "metadata": {},
   "outputs": [
    {
     "data": {
      "text/html": [
       "<div>\n",
       "<style scoped>\n",
       "    .dataframe tbody tr th:only-of-type {\n",
       "        vertical-align: middle;\n",
       "    }\n",
       "\n",
       "    .dataframe tbody tr th {\n",
       "        vertical-align: top;\n",
       "    }\n",
       "\n",
       "    .dataframe thead th {\n",
       "        text-align: right;\n",
       "    }\n",
       "</style>\n",
       "<table border=\"1\" class=\"dataframe\">\n",
       "  <thead>\n",
       "    <tr style=\"text-align: right;\">\n",
       "      <th></th>\n",
       "      <th>ride_id</th>\n",
       "      <th>rideable_type</th>\n",
       "      <th>started_at</th>\n",
       "      <th>ended_at</th>\n",
       "      <th>start_station_name</th>\n",
       "      <th>start_station_id</th>\n",
       "      <th>end_station_name</th>\n",
       "      <th>end_station_id</th>\n",
       "      <th>start_lat</th>\n",
       "      <th>start_lng</th>\n",
       "      <th>end_lat</th>\n",
       "      <th>end_lng</th>\n",
       "      <th>member_casual</th>\n",
       "      <th>month</th>\n",
       "      <th>trip_length</th>\n",
       "      <th>trip_seconds</th>\n",
       "      <th>day_of_week</th>\n",
       "    </tr>\n",
       "  </thead>\n",
       "  <tbody>\n",
       "    <tr>\n",
       "      <th>0</th>\n",
       "      <td>C2F7DD78E82EC875</td>\n",
       "      <td>electric_bike</td>\n",
       "      <td>2022-01-13 11:59:47</td>\n",
       "      <td>2022-01-13 12:02:44</td>\n",
       "      <td>Glenwood Ave &amp; Touhy Ave</td>\n",
       "      <td>525</td>\n",
       "      <td>Clark St &amp; Touhy Ave</td>\n",
       "      <td>RP-007</td>\n",
       "      <td>42.012800</td>\n",
       "      <td>-87.665906</td>\n",
       "      <td>42.012560</td>\n",
       "      <td>-87.674367</td>\n",
       "      <td>casual</td>\n",
       "      <td>1</td>\n",
       "      <td>0 days 00:02:57</td>\n",
       "      <td>177.0</td>\n",
       "      <td>Thursday</td>\n",
       "    </tr>\n",
       "    <tr>\n",
       "      <th>1</th>\n",
       "      <td>A6CF8980A652D272</td>\n",
       "      <td>electric_bike</td>\n",
       "      <td>2022-01-10 08:41:56</td>\n",
       "      <td>2022-01-10 08:46:17</td>\n",
       "      <td>Glenwood Ave &amp; Touhy Ave</td>\n",
       "      <td>525</td>\n",
       "      <td>Clark St &amp; Touhy Ave</td>\n",
       "      <td>RP-007</td>\n",
       "      <td>42.012763</td>\n",
       "      <td>-87.665967</td>\n",
       "      <td>42.012560</td>\n",
       "      <td>-87.674367</td>\n",
       "      <td>casual</td>\n",
       "      <td>1</td>\n",
       "      <td>0 days 00:04:21</td>\n",
       "      <td>261.0</td>\n",
       "      <td>Monday</td>\n",
       "    </tr>\n",
       "    <tr>\n",
       "      <th>2</th>\n",
       "      <td>BD0F91DFF741C66D</td>\n",
       "      <td>classic_bike</td>\n",
       "      <td>2022-01-25 04:53:40</td>\n",
       "      <td>2022-01-25 04:58:01</td>\n",
       "      <td>Sheffield Ave &amp; Fullerton Ave</td>\n",
       "      <td>TA1306000016</td>\n",
       "      <td>Greenview Ave &amp; Fullerton Ave</td>\n",
       "      <td>TA1307000001</td>\n",
       "      <td>41.925602</td>\n",
       "      <td>-87.653708</td>\n",
       "      <td>41.925330</td>\n",
       "      <td>-87.665800</td>\n",
       "      <td>member</td>\n",
       "      <td>1</td>\n",
       "      <td>0 days 00:04:21</td>\n",
       "      <td>261.0</td>\n",
       "      <td>Tuesday</td>\n",
       "    </tr>\n",
       "    <tr>\n",
       "      <th>3</th>\n",
       "      <td>CBB80ED419105406</td>\n",
       "      <td>classic_bike</td>\n",
       "      <td>2022-01-04 00:18:04</td>\n",
       "      <td>2022-01-04 00:33:00</td>\n",
       "      <td>Clark St &amp; Bryn Mawr Ave</td>\n",
       "      <td>KA1504000151</td>\n",
       "      <td>Paulina St &amp; Montrose Ave</td>\n",
       "      <td>TA1309000021</td>\n",
       "      <td>41.983593</td>\n",
       "      <td>-87.669154</td>\n",
       "      <td>41.961507</td>\n",
       "      <td>-87.671387</td>\n",
       "      <td>casual</td>\n",
       "      <td>1</td>\n",
       "      <td>0 days 00:14:56</td>\n",
       "      <td>896.0</td>\n",
       "      <td>Tuesday</td>\n",
       "    </tr>\n",
       "    <tr>\n",
       "      <th>4</th>\n",
       "      <td>DDC963BFDDA51EEA</td>\n",
       "      <td>classic_bike</td>\n",
       "      <td>2022-01-20 01:31:10</td>\n",
       "      <td>2022-01-20 01:37:12</td>\n",
       "      <td>Michigan Ave &amp; Jackson Blvd</td>\n",
       "      <td>TA1309000002</td>\n",
       "      <td>State St &amp; Randolph St</td>\n",
       "      <td>TA1305000029</td>\n",
       "      <td>41.877850</td>\n",
       "      <td>-87.624080</td>\n",
       "      <td>41.884621</td>\n",
       "      <td>-87.627834</td>\n",
       "      <td>member</td>\n",
       "      <td>1</td>\n",
       "      <td>0 days 00:06:02</td>\n",
       "      <td>362.0</td>\n",
       "      <td>Thursday</td>\n",
       "    </tr>\n",
       "  </tbody>\n",
       "</table>\n",
       "</div>"
      ],
      "text/plain": [
       "            ride_id  rideable_type          started_at            ended_at  \\\n",
       "0  C2F7DD78E82EC875  electric_bike 2022-01-13 11:59:47 2022-01-13 12:02:44   \n",
       "1  A6CF8980A652D272  electric_bike 2022-01-10 08:41:56 2022-01-10 08:46:17   \n",
       "2  BD0F91DFF741C66D   classic_bike 2022-01-25 04:53:40 2022-01-25 04:58:01   \n",
       "3  CBB80ED419105406   classic_bike 2022-01-04 00:18:04 2022-01-04 00:33:00   \n",
       "4  DDC963BFDDA51EEA   classic_bike 2022-01-20 01:31:10 2022-01-20 01:37:12   \n",
       "\n",
       "              start_station_name start_station_id  \\\n",
       "0       Glenwood Ave & Touhy Ave              525   \n",
       "1       Glenwood Ave & Touhy Ave              525   \n",
       "2  Sheffield Ave & Fullerton Ave     TA1306000016   \n",
       "3       Clark St & Bryn Mawr Ave     KA1504000151   \n",
       "4    Michigan Ave & Jackson Blvd     TA1309000002   \n",
       "\n",
       "                end_station_name end_station_id  start_lat  start_lng  \\\n",
       "0           Clark St & Touhy Ave         RP-007  42.012800 -87.665906   \n",
       "1           Clark St & Touhy Ave         RP-007  42.012763 -87.665967   \n",
       "2  Greenview Ave & Fullerton Ave   TA1307000001  41.925602 -87.653708   \n",
       "3      Paulina St & Montrose Ave   TA1309000021  41.983593 -87.669154   \n",
       "4         State St & Randolph St   TA1305000029  41.877850 -87.624080   \n",
       "\n",
       "     end_lat    end_lng member_casual  month     trip_length  trip_seconds  \\\n",
       "0  42.012560 -87.674367        casual      1 0 days 00:02:57         177.0   \n",
       "1  42.012560 -87.674367        casual      1 0 days 00:04:21         261.0   \n",
       "2  41.925330 -87.665800        member      1 0 days 00:04:21         261.0   \n",
       "3  41.961507 -87.671387        casual      1 0 days 00:14:56         896.0   \n",
       "4  41.884621 -87.627834        member      1 0 days 00:06:02         362.0   \n",
       "\n",
       "  day_of_week  \n",
       "0    Thursday  \n",
       "1      Monday  \n",
       "2     Tuesday  \n",
       "3     Tuesday  \n",
       "4    Thursday  "
      ]
     },
     "execution_count": 22,
     "metadata": {},
     "output_type": "execute_result"
    }
   ],
   "source": [
    "df2022.head()"
   ]
  },
  {
   "cell_type": "markdown",
   "metadata": {},
   "source": [
    "Checking trip_length column, I noticed that there are records that are less than and equal to 1 minute  and longer than 24hrs these records are most likely and error and should be removed "
   ]
  },
  {
   "cell_type": "code",
   "execution_count": 23,
   "metadata": {},
   "outputs": [
    {
     "name": "stdout",
     "output_type": "stream",
     "text": [
      "Number of rows with trip length more than 24 hours: 143\n"
     ]
    }
   ],
   "source": [
    "more_than_24hrs = (df2022['trip_length'] >='1 days 00:00:00').sum()\n",
    "\n",
    "print(\"Number of rows with trip length more than 24 hours:\", more_than_24hrs)"
   ]
  },
  {
   "cell_type": "code",
   "execution_count": 24,
   "metadata": {},
   "outputs": [
    {
     "name": "stdout",
     "output_type": "stream",
     "text": [
      "Number of rows with trip length less than 1 minute: 77257\n"
     ]
    }
   ],
   "source": [
    "count_less_than_1_min = (df2022['trip_length'] <='0 days 00:01:00').sum()\n",
    "\n",
    "print(\"Number of rows with trip length less than 1 minute:\", count_less_than_1_min)"
   ]
  },
  {
   "cell_type": "code",
   "execution_count": 25,
   "metadata": {},
   "outputs": [],
   "source": [
    "# Keeping only the rides that have a trip length of more than 1 minutes\n",
    "df2022 = df2022[df2022['trip_length']>'0 days 00:01:00']\n",
    "# Keeping only the rides that have a trip length of less than 24 hours\n",
    "df2022 = df2022[df2022['trip_length']<'1 days 00:00:00']"
   ]
  },
  {
   "cell_type": "markdown",
   "metadata": {},
   "source": [
    "## Analyse the Data"
   ]
  },
  {
   "cell_type": "markdown",
   "metadata": {},
   "source": [
    "### The type of customers to the number of rides\n",
    "lets see the type of customers that used the bike share in 2022"
   ]
  },
  {
   "cell_type": "code",
   "execution_count": 26,
   "metadata": {},
   "outputs": [
    {
     "data": {
      "text/plain": [
       "member_casual\n",
       "member    2560294\n",
       "casual    1730253\n",
       "Name: count, dtype: int64"
      ]
     },
     "execution_count": 26,
     "metadata": {},
     "output_type": "execute_result"
    }
   ],
   "source": [
    "df2022[\"member_casual\"].value_counts()"
   ]
  },
  {
   "cell_type": "code",
   "execution_count": 27,
   "metadata": {},
   "outputs": [
    {
     "data": {
      "text/plain": [
       "member_casual\n",
       "member    0.596729\n",
       "casual    0.403271\n",
       "Name: proportion, dtype: float64"
      ]
     },
     "execution_count": 27,
     "metadata": {},
     "output_type": "execute_result"
    }
   ],
   "source": [
    "df2022[\"member_casual\"].value_counts(normalize=True)"
   ]
  },
  {
   "cell_type": "code",
   "execution_count": 28,
   "metadata": {},
   "outputs": [
    {
     "data": {
      "text/plain": [
       "<Axes: xlabel='member_casual', ylabel='count'>"
      ]
     },
     "execution_count": 28,
     "metadata": {},
     "output_type": "execute_result"
    },
    {
     "data": {
      "image/png": "[encoded data removed]",
      "text/plain": [
       "<Figure size 640x480 with 1 Axes>"
      ]
     },
     "metadata": {},
     "output_type": "display_data"
    }
   ],
   "source": [
    "palette = {'member': 'deepskyblue', 'casual': 'darkorange'}\n",
    "sns.countplot(x=\"member_casual\", data=df2022,hue=\"member_casual\",palette=palette)"
   ]
  },
  {
   "cell_type": "code",
   "execution_count": 29,
   "metadata": {},
   "outputs": [
    {
     "data": {
      "image/png": "[encoded data removed]",
      "text/plain": [
       "<Figure size 800x800 with 1 Axes>"
      ]
     },
     "metadata": {},
     "output_type": "display_data"
    }
   ],
   "source": [
    "counts = df2022[\"member_casual\"].value_counts()\n",
    "palette = {'member': 'deepskyblue', 'casual': 'darkorange'}\n",
    "colors = [palette[label] for label in counts.index]\n",
    "plt.figure(figsize=(8, 8))\n",
    "plt.pie(counts, labels=counts.index, autopct='%1.1f%%', startangle=140, colors=colors)\n",
    "plt.title('Proportion of Member and Casual Riders in 2022')\n",
    "plt.show()"
   ]
  },
  {
   "cell_type": "markdown",
   "metadata": {},
   "source": [
    "Observation : From the bar chart we can se that there are more number of rides from members than casuals.  59.6% of the rides are by members and 40.3% of the rides are by casuals\n",
    "Next we would want to see how many users there are over the months "
   ]
  },
  {
   "cell_type": "markdown",
   "metadata": {},
   "source": [
    "### The number of rides over the months of 2022"
   ]
  },
  {
   "cell_type": "code",
   "execution_count": 30,
   "metadata": {},
   "outputs": [
    {
     "data": {
      "text/html": [
       "<div>\n",
       "<style scoped>\n",
       "    .dataframe tbody tr th:only-of-type {\n",
       "        vertical-align: middle;\n",
       "    }\n",
       "\n",
       "    .dataframe tbody tr th {\n",
       "        vertical-align: top;\n",
       "    }\n",
       "\n",
       "    .dataframe thead th {\n",
       "        text-align: right;\n",
       "    }\n",
       "</style>\n",
       "<table border=\"1\" class=\"dataframe\">\n",
       "  <thead>\n",
       "    <tr style=\"text-align: right;\">\n",
       "      <th></th>\n",
       "      <th>started_at</th>\n",
       "      <th>member_casual</th>\n",
       "      <th>count</th>\n",
       "    </tr>\n",
       "  </thead>\n",
       "  <tbody>\n",
       "    <tr>\n",
       "      <th>0</th>\n",
       "      <td>2022-01-01 00:00:05</td>\n",
       "      <td>casual</td>\n",
       "      <td>1</td>\n",
       "    </tr>\n",
       "    <tr>\n",
       "      <th>1</th>\n",
       "      <td>2022-01-01 00:01:00</td>\n",
       "      <td>casual</td>\n",
       "      <td>1</td>\n",
       "    </tr>\n",
       "    <tr>\n",
       "      <th>2</th>\n",
       "      <td>2022-01-01 00:01:16</td>\n",
       "      <td>casual</td>\n",
       "      <td>1</td>\n",
       "    </tr>\n",
       "    <tr>\n",
       "      <th>3</th>\n",
       "      <td>2022-01-01 00:02:14</td>\n",
       "      <td>casual</td>\n",
       "      <td>1</td>\n",
       "    </tr>\n",
       "    <tr>\n",
       "      <th>4</th>\n",
       "      <td>2022-01-01 00:02:35</td>\n",
       "      <td>casual</td>\n",
       "      <td>1</td>\n",
       "    </tr>\n",
       "    <tr>\n",
       "      <th>...</th>\n",
       "      <td>...</td>\n",
       "      <td>...</td>\n",
       "      <td>...</td>\n",
       "    </tr>\n",
       "    <tr>\n",
       "      <th>3964054</th>\n",
       "      <td>2022-12-31 23:57:18</td>\n",
       "      <td>member</td>\n",
       "      <td>1</td>\n",
       "    </tr>\n",
       "    <tr>\n",
       "      <th>3964055</th>\n",
       "      <td>2022-12-31 23:58:01</td>\n",
       "      <td>casual</td>\n",
       "      <td>1</td>\n",
       "    </tr>\n",
       "    <tr>\n",
       "      <th>3964056</th>\n",
       "      <td>2022-12-31 23:58:41</td>\n",
       "      <td>casual</td>\n",
       "      <td>1</td>\n",
       "    </tr>\n",
       "    <tr>\n",
       "      <th>3964057</th>\n",
       "      <td>2022-12-31 23:59:01</td>\n",
       "      <td>member</td>\n",
       "      <td>1</td>\n",
       "    </tr>\n",
       "    <tr>\n",
       "      <th>3964058</th>\n",
       "      <td>2022-12-31 23:59:26</td>\n",
       "      <td>member</td>\n",
       "      <td>1</td>\n",
       "    </tr>\n",
       "  </tbody>\n",
       "</table>\n",
       "<p>3964059 rows × 3 columns</p>\n",
       "</div>"
      ],
      "text/plain": [
       "                 started_at member_casual  count\n",
       "0       2022-01-01 00:00:05        casual      1\n",
       "1       2022-01-01 00:01:00        casual      1\n",
       "2       2022-01-01 00:01:16        casual      1\n",
       "3       2022-01-01 00:02:14        casual      1\n",
       "4       2022-01-01 00:02:35        casual      1\n",
       "...                     ...           ...    ...\n",
       "3964054 2022-12-31 23:57:18        member      1\n",
       "3964055 2022-12-31 23:58:01        casual      1\n",
       "3964056 2022-12-31 23:58:41        casual      1\n",
       "3964057 2022-12-31 23:59:01        member      1\n",
       "3964058 2022-12-31 23:59:26        member      1\n",
       "\n",
       "[3964059 rows x 3 columns]"
      ]
     },
     "execution_count": 30,
     "metadata": {},
     "output_type": "execute_result"
    }
   ],
   "source": [
    "count_month = df2022.groupby(['started_at', 'member_casual'])['member_casual'].count().reset_index(name='count')\n",
    "count_month"
   ]
  },
  {
   "cell_type": "markdown",
   "metadata": {},
   "source": [
    "## Rideable type and Member , Casual preference"
   ]
  },
  {
   "cell_type": "code",
   "execution_count": 31,
   "metadata": {},
   "outputs": [
    {
     "data": {
      "text/plain": [
       "Text(0, 0.5, 'Rides in millions')"
      ]
     },
     "execution_count": 31,
     "metadata": {},
     "output_type": "execute_result"
    },
    {
     "data": {
      "image/png": "[encoded data removed]",
      "text/plain": [
       "<Figure size 640x480 with 1 Axes>"
      ]
     },
     "metadata": {},
     "output_type": "display_data"
    }
   ],
   "source": [
    "palette = {'member': 'deepskyblue', 'casual': 'darkorange'}\n",
    "ax = sns.countplot(x='rideable_type', hue='member_casual', data=df2022,palette=palette)\n",
    "ax.set_title(\"Count of Member and Casual preferences\")\n",
    "ax.set_xlabel(\"Rideable Type\")\n",
    "ax.set_ylabel(\"Rides in millions\")"
   ]
  },
  {
   "cell_type": "code",
   "execution_count": 32,
   "metadata": {},
   "outputs": [
    {
     "data": {
      "text/plain": [
       "month  member_casual\n",
       "1      member            66554\n",
       "       casual            12462\n",
       "2      member            72656\n",
       "       casual            14951\n",
       "3      member           146439\n",
       "       casual            66345\n",
       "4      member           177666\n",
       "       casual            90748\n",
       "5      member           277063\n",
       "       casual           216860\n",
       "6      member           322107\n",
       "       casual           287406\n",
       "7      member           324096\n",
       "       casual           306378\n",
       "8      member           328365\n",
       "       casual           265563\n",
       "9      member           307658\n",
       "       casual           217375\n",
       "10     member           257377\n",
       "       casual           148839\n",
       "11     member           178709\n",
       "       casual            72355\n",
       "12     member           101604\n",
       "       casual            30971\n",
       "Name: count, dtype: int64"
      ]
     },
     "execution_count": 32,
     "metadata": {},
     "output_type": "execute_result"
    }
   ],
   "source": [
    "count_users_over_month = df2022.groupby(\"month\")[\"member_casual\"].value_counts()\n",
    "count_users_over_month"
   ]
  },
  {
   "cell_type": "code",
   "execution_count": 33,
   "metadata": {},
   "outputs": [
    {
     "data": {
      "text/plain": [
       "Text(0, 0.5, 'Count')"
      ]
     },
     "execution_count": 33,
     "metadata": {},
     "output_type": "execute_result"
    },
    {
     "data": {
      "image/png": "[encoded data removed]",
      "text/plain": [
       "<Figure size 1000x600 with 1 Axes>"
      ]
     },
     "metadata": {},
     "output_type": "display_data"
    }
   ],
   "source": [
    "palette = {'member': 'deepskyblue', 'casual': 'darkorange'}\n",
    "plt.figure(figsize=(10, 6))\n",
    "plot = sns.countplot(x='month', hue='member_casual', data=df2022,palette=palette)\n",
    "plot.set_xticks(range(len([\"Jan\", \"Feb\", \"Mar\", \"Apr\", \"May\", \n",
    "                           \"Jun\", \"Jul\", \"Aug\", \"Sep\", \"Oct\", \"Nov\", \"Dec\"])))\n",
    "plot.set_xticklabels([\"Jan\", \"Feb\", \"Mar\", \"Apr\", \"May\", \n",
    "                      \"Jun\", \"Jul\", \"Aug\", \"Sep\", \"Oct\", \"Nov\", \"Dec\"])\n",
    "plot.set_title(\"Count over months\")\n",
    "plot.set_xlabel(\"Months\")\n",
    "plot.set_ylabel(\"Count\")"
   ]
  },
  {
   "cell_type": "markdown",
   "metadata": {},
   "source": [
    "the total number of rides from both casual and memebers is higher from the months of May till Sep with significant increase from Jun - Aug\n",
    "There are a lot more casual rides between May - Aug . Number of Casual rides almost matches member rides om the months of Jun to Jul \n",
    "\n",
    "At this point we could only make a guess that this may have something to do with the seasons and weather. Lets explore further"
   ]
  },
  {
   "cell_type": "markdown",
   "metadata": {},
   "source": [
    "## The total number of rides over days of weeks\n",
    "This would show the bike demand accordning to the day of weeks"
   ]
  },
  {
   "cell_type": "code",
   "execution_count": 34,
   "metadata": {},
   "outputs": [],
   "source": [
    "# Assigning numbers from 0 through 1 to the days of the week for better sorting\n",
    "week_day = { \"Monday\": 0, \"Tuesday\": 1, \"Wednesday\": 2, \"Thursday\": 3, \"Friday\": 4, \"Saturday\": 5, \"Sunday\": 6}\n",
    "df2022[\"day_of_week_index\"] = df2022[\"day_of_week\"].apply(lambda y: week_day[y])"
   ]
  },
  {
   "cell_type": "code",
   "execution_count": 35,
   "metadata": {},
   "outputs": [],
   "source": [
    "# Creating new dataframes with data of member and casual riders separately\n",
    "member = df2022[df2022['member_casual'].str.contains('member')]\n",
    "casual = df2022[df2022['member_casual'].str.contains('casual')]"
   ]
  },
  {
   "cell_type": "markdown",
   "metadata": {},
   "source": [
    "Mode of Day of Week for member and casual riders"
   ]
  },
  {
   "cell_type": "code",
   "execution_count": 36,
   "metadata": {},
   "outputs": [
    {
     "name": "stdout",
     "output_type": "stream",
     "text": [
      "Members most use the bikes on Thursday\n",
      "Casual users most use the bikes on Saturday\n"
     ]
    }
   ],
   "source": [
    "# Finding the mode of day of the week for member and cansual riders\n",
    "# [0] to access the first element of mode result\n",
    "print(\"Members most use the bikes on\", member['day_of_week'].mode()[0])\n",
    "print(\"Casual users most use the bikes on\", casual['day_of_week'].mode()[0])"
   ]
  },
  {
   "cell_type": "code",
   "execution_count": 65,
   "metadata": {},
   "outputs": [
    {
     "data": {
      "text/plain": [
       "day_of_week_index\n",
       "Monday       368053\n",
       "Tuesday      403657\n",
       "Wednesday    404936\n",
       "Thursday     408037\n",
       "Friday       352953\n",
       "Saturday     331159\n",
       "Sunday       291499\n",
       "Name: ride_id, dtype: int64"
      ]
     },
     "execution_count": 65,
     "metadata": {},
     "output_type": "execute_result"
    }
   ],
   "source": [
    "# Counting member users by day of week\n",
    "member_week_day = member.groupby(\"day_of_week_index\")[\"ride_id\"].count()\n",
    "# Map the indices back to day names\n",
    "day_labels = {0: \"Monday\", 1: \"Tuesday\", 2: \"Wednesday\", 3: \"Thursday\", 4: \"Friday\", 5: \"Saturday\", 6: \"Sunday\"}\n",
    "member_week_day.index = member_week_day.index.map(day_labels)\n",
    "member_week_day"
   ]
  },
  {
   "cell_type": "code",
   "execution_count": 68,
   "metadata": {},
   "outputs": [
    {
     "data": {
      "text/plain": [
       "day_of_week_index\n",
       "Monday       207394\n",
       "Tuesday      193289\n",
       "Wednesday    200395\n",
       "Thursday     226447\n",
       "Friday       244859\n",
       "Saturday     361439\n",
       "Sunday       296430\n",
       "Name: ride_id, dtype: int64"
      ]
     },
     "execution_count": 68,
     "metadata": {},
     "output_type": "execute_result"
    }
   ],
   "source": [
    "# Counting casual users by day of week\n",
    "casual_week_day = casual.groupby(\"day_of_week_index\")[\"ride_id\"].count()\n",
    "# Map the indices back to day names\n",
    "day_labels = {0: \"Monday\", 1: \"Tuesday\", 2: \"Wednesday\", 3: \"Thursday\", 4: \"Friday\", 5: \"Saturday\", 6: \"Sunday\"}\n",
    "casual_week_day.index = casual_week_day.index.map(day_labels)\n",
    "casual_week_day"
   ]
  },
  {
   "cell_type": "code",
   "execution_count": 40,
   "metadata": {},
   "outputs": [
    {
     "data": {
      "image/png": "[encoded data removed]",
      "text/plain": [
       "<Figure size 1000x600 with 1 Axes>"
      ]
     },
     "metadata": {},
     "output_type": "display_data"
    }
   ],
   "source": [
    "# Plotting the graph of Weekday vs Number of Rides\n",
    "bar_width = 0.35\n",
    "index = np.arange(len(member_week_day))\n",
    "plt.figure(figsize=(10, 6))\n",
    "plt.bar(index + bar_width, casual_week_day.values, bar_width, label='Casual',color='darkorange')\n",
    "plt.bar(index, member_week_day.values, bar_width, label='Member',color='deepskyblue')\n",
    "plt.ylabel('Number of Rides')\n",
    "plt.title('Numbers of rides for different users by weekday')\n",
    "plt.xticks(index + bar_width / 2, [\"Monday\", \"Tuesday\", \"Wednesday\", \"Thursday\", \"Friday\", \"Saturday\", \"Sunday\"])\n",
    "plt.legend()\n",
    "plt.show()"
   ]
  },
  {
   "cell_type": "markdown",
   "metadata": {},
   "source": [
    "Members ride more during the working week and the casual riders ride more during the weekend."
   ]
  },
  {
   "cell_type": "markdown",
   "metadata": {},
   "source": [
    "## Analyse trip length\n",
    "### Average ride time day of week"
   ]
  },
  {
   "cell_type": "code",
   "execution_count": 41,
   "metadata": {},
   "outputs": [
    {
     "name": "stdout",
     "output_type": "stream",
     "text": [
      "The maximum ride length is  0 days 23:59:22\n"
     ]
    }
   ],
   "source": [
    "# Finding the maximum ride length\n",
    "print(\"The maximum ride length is \",df2022['trip_length'].max())"
   ]
  },
  {
   "cell_type": "code",
   "execution_count": 42,
   "metadata": {},
   "outputs": [
    {
     "name": "stdout",
     "output_type": "stream",
     "text": [
      "The average ride length is  0 days 00:17:16.238518072\n"
     ]
    }
   ],
   "source": [
    "# Finding the average ride length \n",
    "print(\"The average ride length is \",df2022['trip_length'].mean())"
   ]
  },
  {
   "cell_type": "code",
   "execution_count": 43,
   "metadata": {},
   "outputs": [
    {
     "name": "stdout",
     "output_type": "stream",
     "text": [
      "The average ride length for members is  0 days 00:12:40.439706533\n"
     ]
    }
   ],
   "source": [
    "# Calculating the mean ride length for member and cansual riders\n",
    "print(\"The average ride length for members is \",member['trip_length'].mean())"
   ]
  },
  {
   "cell_type": "code",
   "execution_count": 44,
   "metadata": {},
   "outputs": [
    {
     "name": "stdout",
     "output_type": "stream",
     "text": [
      "The average ride length for casual is  0 days 00:24:04.344177990\n"
     ]
    }
   ],
   "source": [
    "print(\"The average ride length for casual is \",casual['trip_length'].mean())"
   ]
  },
  {
   "cell_type": "code",
   "execution_count": 73,
   "metadata": {},
   "outputs": [
    {
     "data": {
      "text/plain": [
       "day_of_week_index\n",
       "Monday      0 days 00:16:43.938002978\n",
       "Tuesday     0 days 00:15:06.259398672\n",
       "Wednesday   0 days 00:14:56.866795191\n",
       "Thursday    0 days 00:15:30.138444783\n",
       "Friday      0 days 00:16:34.649001692\n",
       "Saturday    0 days 00:20:49.810109183\n",
       "Sunday      0 days 00:20:48.519300799\n",
       "Name: trip_length, dtype: timedelta64[ns]"
      ]
     },
     "execution_count": 73,
     "metadata": {},
     "output_type": "execute_result"
    }
   ],
   "source": [
    "# Calculating the average ride_length for all users by day of week\n",
    "all_user_avg_ride_len_week_day = df2022.groupby(\"day_of_week_index\")[\"trip_length\"].mean(numeric_only=False)\n",
    "# Map the indices back to day names\n",
    "day_labels = {0: \"Monday\", 1: \"Tuesday\", 2: \"Wednesday\", 3: \"Thursday\", 4: \"Friday\", 5: \"Saturday\", 6: \"Sunday\"}\n",
    "all_user_avg_ride_len_week_day.index = all_user_avg_ride_len_week_day.index.map(day_labels)\n",
    "all_user_avg_ride_len_week_day"
   ]
  },
  {
   "cell_type": "code",
   "execution_count": 74,
   "metadata": {},
   "outputs": [
    {
     "data": {
      "text/plain": [
       "day_of_week_index\n",
       "Monday      0 days 00:12:13.739352756\n",
       "Tuesday     0 days 00:11:59.434294462\n",
       "Wednesday   0 days 00:12:03.674136159\n",
       "Thursday    0 days 00:12:13.722238424\n",
       "Friday      0 days 00:12:27.224698472\n",
       "Saturday    0 days 00:14:15.884544886\n",
       "Sunday      0 days 00:14:06.977035941\n",
       "Name: trip_length, dtype: timedelta64[ns]"
      ]
     },
     "execution_count": 74,
     "metadata": {},
     "output_type": "execute_result"
    }
   ],
   "source": [
    "# Calculating the average ride_length for members by week_day\n",
    "member_avg_ride_len_week_day = df2022[df2022[\"member_casual\"] == \"member\"].groupby(\"day_of_week_index\")[\"trip_length\"].mean(numeric_only=False)\n",
    "# Map the indices back to day names\n",
    "day_labels = {0: \"Monday\", 1: \"Tuesday\", 2: \"Wednesday\", 3: \"Thursday\", 4: \"Friday\", 5: \"Saturday\", 6: \"Sunday\"}\n",
    "member_avg_ride_len_week_day.index = member_avg_ride_len_week_day.index.map(day_labels)\n",
    "member_avg_ride_len_week_day"
   ]
  },
  {
   "cell_type": "code",
   "execution_count": 75,
   "metadata": {},
   "outputs": [
    {
     "data": {
      "text/plain": [
       "day_of_week_index\n",
       "Monday      0 days 00:24:43.447650365\n",
       "Tuesday     0 days 00:21:36.417457796\n",
       "Wednesday   0 days 00:20:46.835320242\n",
       "Thursday    0 days 00:21:24.062672501\n",
       "Friday      0 days 00:22:31.299768438\n",
       "Saturday    0 days 00:26:50.734071309\n",
       "Sunday      0 days 00:27:23.382063218\n",
       "Name: trip_length, dtype: timedelta64[ns]"
      ]
     },
     "execution_count": 75,
     "metadata": {},
     "output_type": "execute_result"
    }
   ],
   "source": [
    "# Calculating the average ride_length for members by week_day\n",
    "casual_avg_ride_len_week_day = df2022[df2022[\"member_casual\"] == \"casual\"].groupby(\"day_of_week_index\")[\"trip_length\"].mean(numeric_only=False)\n",
    "# Map the indices back to day names\n",
    "day_labels = {0: \"Monday\", 1: \"Tuesday\", 2: \"Wednesday\", 3: \"Thursday\", 4: \"Friday\", 5: \"Saturday\", 6: \"Sunday\"}\n",
    "casual_avg_ride_len_week_day.index = casual_avg_ride_len_week_day.index.map(day_labels)\n",
    "casual_avg_ride_len_week_day"
   ]
  },
  {
   "cell_type": "code",
   "execution_count": 76,
   "metadata": {},
   "outputs": [
    {
     "data": {
      "image/png": "[encoded data removed]",
      "text/plain": [
       "<Figure size 800x600 with 1 Axes>"
      ]
     },
     "metadata": {},
     "output_type": "display_data"
    }
   ],
   "source": [
    "# Plotting the graph of Weekday vs Number of Rides\n",
    "plt.figure(figsize=(8, 6))\n",
    "plt.plot(member_avg_ride_len_week_day/pd.Timedelta(minutes=1))\n",
    "plt.plot(casual_avg_ride_len_week_day/pd.Timedelta(minutes=1))\n",
    "plt.title(\"The average ride_length for different users by week_day in minutes\")\n",
    "plt.legend([\"Member\", \"Casual\"])\n",
    "labels = [\"Monday\", \"Tuesday\", \"Wednesday\", \"Thursday\", \"Friday\", \"Saturday\",\"Sunday\"]\n",
    "plt.xticks(member_avg_ride_len_week_day.index, labels)\n",
    "plt.show()"
   ]
  },
  {
   "cell_type": "markdown",
   "metadata": {},
   "source": [
    "Casuals use the bike longer than members on average\n",
    "Members use the bike on average 12 mins on the weekdays and 14 mins on the weekends \n",
    "Casuals use the bike on average 24 mins on the weekdays and 14 mins on the weekends "
   ]
  },
  {
   "cell_type": "code",
   "execution_count": null,
   "metadata": {},
   "outputs": [],
   "source": []
  }
 ],
 "metadata": {
  "kernelspec": {
   "display_name": "kagglebikeshare",
   "language": "python",
   "name": "python3"
  },
  "language_info": {
   "codemirror_mode": {
    "name": "ipython",
    "version": 3
   },
   "file_extension": ".py",
   "mimetype": "text/x-python",
   "name": "python",
   "nbconvert_exporter": "python",
   "pygments_lexer": "ipython3",
   "version": "3.11.9"
  }
 },
 "nbformat": 4,
 "nbformat_minor": 2
}
